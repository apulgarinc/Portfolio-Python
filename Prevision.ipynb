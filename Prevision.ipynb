{
 "cells": [
  {
   "cell_type": "code",
   "execution_count": 1,
   "metadata": {},
   "outputs": [
    {
     "data": {
      "text/html": [
       "        <script type=\"text/javascript\">\n",
       "        window.PlotlyConfig = {MathJaxConfig: 'local'};\n",
       "        if (window.MathJax) {MathJax.Hub.Config({SVG: {font: \"STIX-Web\"}});}\n",
       "        if (typeof require !== 'undefined') {\n",
       "        require.undef(\"plotly\");\n",
       "        requirejs.config({\n",
       "            paths: {\n",
       "                'plotly': ['https://cdn.plot.ly/plotly-2.3.1.min']\n",
       "            }\n",
       "        });\n",
       "        require(['plotly'], function(Plotly) {\n",
       "            window._Plotly = Plotly;\n",
       "        });\n",
       "        }\n",
       "        </script>\n",
       "        "
      ]
     },
     "metadata": {},
     "output_type": "display_data"
    }
   ],
   "source": [
    "#importar as bibliotecas\n",
    "import pandas as pd\n",
    "import numpy as np\n",
    "import matplotlib.pyplot as plt\n",
    "import seaborn as sns\n",
    "from sklearn.model_selection import train_test_split\n",
    "from sklearn.preprocessing import StandardScaler\n",
    "import datetime\n",
    "import plotly\n",
    "import cufflinks as cf"
   ]
  },
  {
   "cell_type": "code",
   "execution_count": 2,
   "metadata": {},
   "outputs": [],
   "source": [
    "from tensorflow.keras.models import Sequential\n",
    "from tensorflow.keras.layers import Dense, LSTM, Dropout"
   ]
  },
  {
   "cell_type": "code",
   "execution_count": 3,
   "metadata": {},
   "outputs": [],
   "source": [
    "def get_cotacao(ticker='^BVSP', source='yahoo', b_date='01/01/2017', e_date=datetime.datetime.strptime(str(datetime.date.today()), \"%Y-%m-%d\").strftime(\"%m-%d-%Y\")):\n",
    "    import pandas as pd\n",
    "    from pandas_datareader import data as get\n",
    "    return get.DataReader(ticker, data_source=source, start=b_date, end=e_date)"
   ]
  },
  {
   "cell_type": "code",
   "execution_count": 4,
   "metadata": {},
   "outputs": [
    {
     "data": {
      "text/plain": [
       "High         float64\n",
       "Low          float64\n",
       "Open         float64\n",
       "Close        float64\n",
       "Volume       float64\n",
       "Adj Close    float64\n",
       "dtype: object"
      ]
     },
     "execution_count": 4,
     "metadata": {},
     "output_type": "execute_result"
    }
   ],
   "source": [
    "df=get_cotacao('PETR4.SA')\n",
    "\n",
    "df.dtypes"
   ]
  },
  {
   "cell_type": "code",
   "execution_count": 29,
   "metadata": {},
   "outputs": [
    {
     "data": {
      "text/html": [
       "<div>\n",
       "<style scoped>\n",
       "    .dataframe tbody tr th:only-of-type {\n",
       "        vertical-align: middle;\n",
       "    }\n",
       "\n",
       "    .dataframe tbody tr th {\n",
       "        vertical-align: top;\n",
       "    }\n",
       "\n",
       "    .dataframe thead th {\n",
       "        text-align: right;\n",
       "    }\n",
       "</style>\n",
       "<table border=\"1\" class=\"dataframe\">\n",
       "  <thead>\n",
       "    <tr style=\"text-align: right;\">\n",
       "      <th></th>\n",
       "      <th>Adj Close</th>\n",
       "    </tr>\n",
       "    <tr>\n",
       "      <th>Date</th>\n",
       "      <th></th>\n",
       "    </tr>\n",
       "  </thead>\n",
       "  <tbody>\n",
       "    <tr>\n",
       "      <th>2017-01-02</th>\n",
       "      <td>12.417701</td>\n",
       "    </tr>\n",
       "    <tr>\n",
       "      <th>2017-01-03</th>\n",
       "      <td>13.129221</td>\n",
       "    </tr>\n",
       "    <tr>\n",
       "      <th>2017-01-04</th>\n",
       "      <td>13.129221</td>\n",
       "    </tr>\n",
       "    <tr>\n",
       "      <th>2017-01-05</th>\n",
       "      <td>13.340982</td>\n",
       "    </tr>\n",
       "    <tr>\n",
       "      <th>2017-01-06</th>\n",
       "      <td>13.264747</td>\n",
       "    </tr>\n",
       "    <tr>\n",
       "      <th>...</th>\n",
       "      <td>...</td>\n",
       "    </tr>\n",
       "    <tr>\n",
       "      <th>2021-09-02</th>\n",
       "      <td>26.600000</td>\n",
       "    </tr>\n",
       "    <tr>\n",
       "      <th>2021-09-03</th>\n",
       "      <td>26.330000</td>\n",
       "    </tr>\n",
       "    <tr>\n",
       "      <th>2021-09-06</th>\n",
       "      <td>26.459999</td>\n",
       "    </tr>\n",
       "    <tr>\n",
       "      <th>2021-09-08</th>\n",
       "      <td>24.969999</td>\n",
       "    </tr>\n",
       "    <tr>\n",
       "      <th>2021-09-09</th>\n",
       "      <td>25.500000</td>\n",
       "    </tr>\n",
       "  </tbody>\n",
       "</table>\n",
       "<p>1163 rows × 1 columns</p>\n",
       "</div>"
      ],
      "text/plain": [
       "            Adj Close\n",
       "Date                 \n",
       "2017-01-02  12.417701\n",
       "2017-01-03  13.129221\n",
       "2017-01-04  13.129221\n",
       "2017-01-05  13.340982\n",
       "2017-01-06  13.264747\n",
       "...               ...\n",
       "2021-09-02  26.600000\n",
       "2021-09-03  26.330000\n",
       "2021-09-06  26.459999\n",
       "2021-09-08  24.969999\n",
       "2021-09-09  25.500000\n",
       "\n",
       "[1163 rows x 1 columns]"
      ]
     },
     "execution_count": 29,
     "metadata": {},
     "output_type": "execute_result"
    }
   ],
   "source": [
    "df=df[['Adj Close']]\n",
    "df"
   ]
  },
  {
   "cell_type": "markdown",
   "metadata": {},
   "source": [
    "from sklearn.model_selection import train_test_split\n",
    "\n",
    "train, test = train_test_split(df, test_size=0.3)\n",
    "from sklearn.preprocessing import MinMaxScaler\n",
    "mms = MinMaxScaler()\n",
    "train_norm = mms.fit_transform(train)\n",
    "test_norm = mms.transform(test)"
   ]
  },
  {
   "cell_type": "code",
   "execution_count": 6,
   "metadata": {},
   "outputs": [
    {
     "name": "stdout",
     "output_type": "stream",
     "text": [
      " las lineas totales son:1163\n",
      " las lineas de treino son:814\n",
      " las lineas de test son:349\n"
     ]
    }
   ],
   "source": [
    "#separacao em treinamento e teste\n",
    "#verificar quantidade de linhas\n",
    "\n",
    "qtd_linhas=df.shape[0]\n",
    "qtd_linhas_tr=round(df.shape[0]*.70)\n",
    "qtd_linhas_tst=qtd_linhas-qtd_linhas_tr\n",
    "print(' las lineas totales son:{}\\n las lineas de treino son:{}\\n las lineas de test son:{}'.format(qtd_linhas,qtd_linhas_tr,qtd_linhas_tst))\n"
   ]
  },
  {
   "cell_type": "code",
   "execution_count": 7,
   "metadata": {},
   "outputs": [
    {
     "data": {
      "text/plain": [
       "(1163, 1)"
      ]
     },
     "execution_count": 7,
     "metadata": {},
     "output_type": "execute_result"
    }
   ],
   "source": [
    "#normalizacao dos dados\n",
    "#esto es debido a que no queremos que ningun valor tenga mayor repercusion por lo cual iran todos de 0 a 1\n",
    "scaler=StandardScaler()\n",
    "norm_df=scaler.fit_transform(df)\n",
    "norm_df.shape\n"
   ]
  },
  {
   "cell_type": "code",
   "execution_count": 8,
   "metadata": {},
   "outputs": [
    {
     "name": "stdout",
     "output_type": "stream",
     "text": [
      "814 349\n"
     ]
    }
   ],
   "source": [
    "#separar treino do teste\n",
    "test=norm_df[qtd_linhas_tr:qtd_linhas_tst+qtd_linhas_tr]\n",
    "train=norm_df[:qtd_linhas_tr]\n",
    "\n",
    "print(len(train), len(test))\n"
   ]
  },
  {
   "cell_type": "code",
   "execution_count": 9,
   "metadata": {},
   "outputs": [],
   "source": [
    "#converter um array de valores em uma matriz\n",
    "def create_df(df,steps=1):\n",
    "    dataX, dataY=[],[]\n",
    "    for i in range(len(df)-steps-1):\n",
    "        a=df[i:(i+steps),0]\n",
    "        \n",
    "        dataX.append(a)\n",
    "        dataY.append(df[i+steps,0])\n",
    "    return np.array(dataX), np.array(dataY)"
   ]
  },
  {
   "cell_type": "code",
   "execution_count": 10,
   "metadata": {},
   "outputs": [],
   "source": [
    "#gerando dados de treino e teste\n",
    "steps=15\n",
    "x_train, y_train= create_df(train ,steps)\n",
    "x_test, y_test= create_df(test,steps)\n"
   ]
  },
  {
   "cell_type": "code",
   "execution_count": 11,
   "metadata": {},
   "outputs": [
    {
     "data": {
      "text/plain": [
       "(798, 15)"
      ]
     },
     "execution_count": 11,
     "metadata": {},
     "output_type": "execute_result"
    }
   ],
   "source": [
    "x_train.shape\n"
   ]
  },
  {
   "cell_type": "code",
   "execution_count": 12,
   "metadata": {},
   "outputs": [],
   "source": [
    "#gerando os dados que o modelo espera\n",
    "x_train=x_train.reshape(x_train.shape[0], x_train.shape[1],1)\n",
    "\n",
    "x_test=x_test.reshape(x_test.shape[0], x_test.shape[1],1)"
   ]
  },
  {
   "cell_type": "code",
   "execution_count": 13,
   "metadata": {},
   "outputs": [],
   "source": [
    "#montando a rede\n",
    "model=Sequential()\n",
    "model.add(LSTM(35, return_sequences=True,input_shape=(steps,1)))\n",
    "model.add(LSTM(35, return_sequences=True))\n",
    "model.add(LSTM(35))\n",
    "model.add(Dropout(0.2))\n",
    "model.add(Dense(1))\n",
    "\n",
    "\n",
    "\n"
   ]
  },
  {
   "cell_type": "code",
   "execution_count": 14,
   "metadata": {},
   "outputs": [
    {
     "name": "stdout",
     "output_type": "stream",
     "text": [
      "Model: \"sequential\"\n",
      "_________________________________________________________________\n",
      "Layer (type)                 Output Shape              Param #   \n",
      "=================================================================\n",
      "lstm (LSTM)                  (None, 15, 35)            5180      \n",
      "_________________________________________________________________\n",
      "lstm_1 (LSTM)                (None, 15, 35)            9940      \n",
      "_________________________________________________________________\n",
      "lstm_2 (LSTM)                (None, 35)                9940      \n",
      "_________________________________________________________________\n",
      "dropout (Dropout)            (None, 35)                0         \n",
      "_________________________________________________________________\n",
      "dense (Dense)                (None, 1)                 36        \n",
      "=================================================================\n",
      "Total params: 25,096\n",
      "Trainable params: 25,096\n",
      "Non-trainable params: 0\n",
      "_________________________________________________________________\n"
     ]
    }
   ],
   "source": [
    "model.compile(optimizer='adam',loss='mse')\n",
    "model.summary()"
   ]
  },
  {
   "cell_type": "code",
   "execution_count": 15,
   "metadata": {},
   "outputs": [
    {
     "name": "stdout",
     "output_type": "stream",
     "text": [
      "Epoch 1/100\n",
      "54/54 - 8s - loss: 0.2687 - val_loss: 0.0872\n",
      "Epoch 2/100\n",
      "54/54 - 1s - loss: 0.1132 - val_loss: 0.0581\n",
      "Epoch 3/100\n",
      "54/54 - 1s - loss: 0.0889 - val_loss: 0.0547\n",
      "Epoch 4/100\n",
      "54/54 - 1s - loss: 0.0706 - val_loss: 0.0392\n",
      "Epoch 5/100\n",
      "54/54 - 1s - loss: 0.0527 - val_loss: 0.0595\n",
      "Epoch 6/100\n",
      "54/54 - 1s - loss: 0.0553 - val_loss: 0.0397\n",
      "Epoch 7/100\n",
      "54/54 - 1s - loss: 0.0502 - val_loss: 0.0441\n",
      "Epoch 8/100\n",
      "54/54 - 1s - loss: 0.0515 - val_loss: 0.0328\n",
      "Epoch 9/100\n",
      "54/54 - 1s - loss: 0.0444 - val_loss: 0.0308\n",
      "Epoch 10/100\n",
      "54/54 - 1s - loss: 0.0408 - val_loss: 0.0302\n",
      "Epoch 11/100\n",
      "54/54 - 1s - loss: 0.0426 - val_loss: 0.0328\n",
      "Epoch 12/100\n",
      "54/54 - 1s - loss: 0.0405 - val_loss: 0.0280\n",
      "Epoch 13/100\n",
      "54/54 - 1s - loss: 0.0403 - val_loss: 0.0287\n",
      "Epoch 14/100\n",
      "54/54 - 1s - loss: 0.0364 - val_loss: 0.0256\n",
      "Epoch 15/100\n",
      "54/54 - 1s - loss: 0.0358 - val_loss: 0.0354\n",
      "Epoch 16/100\n",
      "54/54 - 1s - loss: 0.0341 - val_loss: 0.0231\n",
      "Epoch 17/100\n",
      "54/54 - 1s - loss: 0.0354 - val_loss: 0.0247\n",
      "Epoch 18/100\n",
      "54/54 - 1s - loss: 0.0336 - val_loss: 0.0213\n",
      "Epoch 19/100\n",
      "54/54 - 1s - loss: 0.0352 - val_loss: 0.0204\n",
      "Epoch 20/100\n",
      "54/54 - 1s - loss: 0.0303 - val_loss: 0.0258\n",
      "Epoch 21/100\n",
      "54/54 - 1s - loss: 0.0272 - val_loss: 0.0258\n",
      "Epoch 22/100\n",
      "54/54 - 1s - loss: 0.0318 - val_loss: 0.0188\n",
      "Epoch 23/100\n",
      "54/54 - 1s - loss: 0.0275 - val_loss: 0.0306\n",
      "Epoch 24/100\n",
      "54/54 - 1s - loss: 0.0334 - val_loss: 0.0253\n",
      "Epoch 25/100\n",
      "54/54 - 1s - loss: 0.0262 - val_loss: 0.0194\n",
      "Epoch 26/100\n",
      "54/54 - 2s - loss: 0.0274 - val_loss: 0.0176\n",
      "Epoch 27/100\n",
      "54/54 - 1s - loss: 0.0255 - val_loss: 0.0175\n",
      "Epoch 28/100\n",
      "54/54 - 1s - loss: 0.0222 - val_loss: 0.0177\n",
      "Epoch 29/100\n",
      "54/54 - 1s - loss: 0.0257 - val_loss: 0.0166\n",
      "Epoch 30/100\n",
      "54/54 - 1s - loss: 0.0249 - val_loss: 0.0154\n",
      "Epoch 31/100\n",
      "54/54 - 2s - loss: 0.0230 - val_loss: 0.0151\n",
      "Epoch 32/100\n",
      "54/54 - 1s - loss: 0.0233 - val_loss: 0.0177\n",
      "Epoch 33/100\n",
      "54/54 - 1s - loss: 0.0230 - val_loss: 0.0147\n",
      "Epoch 34/100\n",
      "54/54 - 1s - loss: 0.0217 - val_loss: 0.0173\n",
      "Epoch 35/100\n",
      "54/54 - 1s - loss: 0.0241 - val_loss: 0.0149\n",
      "Epoch 36/100\n",
      "54/54 - 1s - loss: 0.0215 - val_loss: 0.0162\n",
      "Epoch 37/100\n",
      "54/54 - 1s - loss: 0.0220 - val_loss: 0.0142\n",
      "Epoch 38/100\n",
      "54/54 - 1s - loss: 0.0217 - val_loss: 0.0150\n",
      "Epoch 39/100\n",
      "54/54 - 1s - loss: 0.0228 - val_loss: 0.0204\n",
      "Epoch 40/100\n",
      "54/54 - 1s - loss: 0.0228 - val_loss: 0.0145\n",
      "Epoch 41/100\n",
      "54/54 - 1s - loss: 0.0201 - val_loss: 0.0145\n",
      "Epoch 42/100\n",
      "54/54 - 1s - loss: 0.0209 - val_loss: 0.0147\n",
      "Epoch 43/100\n",
      "54/54 - 1s - loss: 0.0205 - val_loss: 0.0137\n",
      "Epoch 44/100\n",
      "54/54 - 1s - loss: 0.0211 - val_loss: 0.0136\n",
      "Epoch 45/100\n",
      "54/54 - 1s - loss: 0.0218 - val_loss: 0.0149\n",
      "Epoch 46/100\n",
      "54/54 - 1s - loss: 0.0219 - val_loss: 0.0172\n",
      "Epoch 47/100\n",
      "54/54 - 1s - loss: 0.0197 - val_loss: 0.0141\n",
      "Epoch 48/100\n",
      "54/54 - 1s - loss: 0.0194 - val_loss: 0.0148\n",
      "Epoch 49/100\n",
      "54/54 - 1s - loss: 0.0218 - val_loss: 0.0154\n",
      "Epoch 50/100\n",
      "54/54 - 1s - loss: 0.0217 - val_loss: 0.0151\n",
      "Epoch 51/100\n",
      "54/54 - 1s - loss: 0.0231 - val_loss: 0.0172\n",
      "Epoch 52/100\n",
      "54/54 - 1s - loss: 0.0233 - val_loss: 0.0142\n",
      "Epoch 53/100\n",
      "54/54 - 2s - loss: 0.0208 - val_loss: 0.0139\n",
      "Epoch 54/100\n",
      "54/54 - 1s - loss: 0.0196 - val_loss: 0.0161\n",
      "Epoch 55/100\n",
      "54/54 - 1s - loss: 0.0198 - val_loss: 0.0176\n",
      "Epoch 56/100\n",
      "54/54 - 1s - loss: 0.0203 - val_loss: 0.0147\n",
      "Epoch 57/100\n",
      "54/54 - 1s - loss: 0.0219 - val_loss: 0.0212\n",
      "Epoch 58/100\n",
      "54/54 - 1s - loss: 0.0209 - val_loss: 0.0146\n",
      "Epoch 59/100\n",
      "54/54 - 1s - loss: 0.0203 - val_loss: 0.0140\n",
      "Epoch 60/100\n",
      "54/54 - 1s - loss: 0.0230 - val_loss: 0.0135\n",
      "Epoch 61/100\n",
      "54/54 - 1s - loss: 0.0197 - val_loss: 0.0167\n",
      "Epoch 62/100\n",
      "54/54 - 1s - loss: 0.0201 - val_loss: 0.0176\n",
      "Epoch 63/100\n",
      "54/54 - 1s - loss: 0.0194 - val_loss: 0.0136\n",
      "Epoch 64/100\n",
      "54/54 - 1s - loss: 0.0179 - val_loss: 0.0146\n",
      "Epoch 65/100\n",
      "54/54 - 1s - loss: 0.0205 - val_loss: 0.0154\n",
      "Epoch 66/100\n",
      "54/54 - 1s - loss: 0.0195 - val_loss: 0.0143\n",
      "Epoch 67/100\n",
      "54/54 - 1s - loss: 0.0205 - val_loss: 0.0139\n",
      "Epoch 68/100\n",
      "54/54 - 1s - loss: 0.0203 - val_loss: 0.0145\n",
      "Epoch 69/100\n",
      "54/54 - 1s - loss: 0.0193 - val_loss: 0.0141\n",
      "Epoch 70/100\n",
      "54/54 - 1s - loss: 0.0197 - val_loss: 0.0135\n",
      "Epoch 71/100\n",
      "54/54 - 1s - loss: 0.0205 - val_loss: 0.0135\n",
      "Epoch 72/100\n",
      "54/54 - 2s - loss: 0.0211 - val_loss: 0.0139\n",
      "Epoch 73/100\n",
      "54/54 - 2s - loss: 0.0250 - val_loss: 0.0153\n",
      "Epoch 74/100\n",
      "54/54 - 1s - loss: 0.0203 - val_loss: 0.0158\n",
      "Epoch 75/100\n",
      "54/54 - 1s - loss: 0.0196 - val_loss: 0.0135\n",
      "Epoch 76/100\n",
      "54/54 - 1s - loss: 0.0212 - val_loss: 0.0159\n",
      "Epoch 77/100\n",
      "54/54 - 1s - loss: 0.0217 - val_loss: 0.0143\n",
      "Epoch 78/100\n",
      "54/54 - 1s - loss: 0.0194 - val_loss: 0.0155\n",
      "Epoch 79/100\n",
      "54/54 - 1s - loss: 0.0198 - val_loss: 0.0142\n",
      "Epoch 80/100\n",
      "54/54 - 1s - loss: 0.0192 - val_loss: 0.0139\n",
      "Epoch 81/100\n",
      "54/54 - 1s - loss: 0.0202 - val_loss: 0.0156\n",
      "Epoch 82/100\n",
      "54/54 - 1s - loss: 0.0197 - val_loss: 0.0199\n",
      "Epoch 83/100\n",
      "54/54 - 1s - loss: 0.0196 - val_loss: 0.0140\n",
      "Epoch 84/100\n",
      "54/54 - 1s - loss: 0.0191 - val_loss: 0.0135\n",
      "Epoch 85/100\n",
      "54/54 - 1s - loss: 0.0187 - val_loss: 0.0136\n",
      "Epoch 86/100\n",
      "54/54 - 1s - loss: 0.0189 - val_loss: 0.0154\n",
      "Epoch 87/100\n",
      "54/54 - 1s - loss: 0.0194 - val_loss: 0.0152\n",
      "Epoch 88/100\n",
      "54/54 - 1s - loss: 0.0210 - val_loss: 0.0138\n",
      "Epoch 89/100\n",
      "54/54 - 1s - loss: 0.0196 - val_loss: 0.0154\n",
      "Epoch 90/100\n",
      "54/54 - 1s - loss: 0.0188 - val_loss: 0.0159\n",
      "Epoch 91/100\n",
      "54/54 - 1s - loss: 0.0181 - val_loss: 0.0136\n",
      "Epoch 92/100\n",
      "54/54 - 1s - loss: 0.0199 - val_loss: 0.0141\n",
      "Epoch 93/100\n",
      "54/54 - 1s - loss: 0.0202 - val_loss: 0.0155\n",
      "Epoch 94/100\n",
      "54/54 - 1s - loss: 0.0211 - val_loss: 0.0151\n",
      "Epoch 95/100\n",
      "54/54 - 1s - loss: 0.0188 - val_loss: 0.0137\n",
      "Epoch 96/100\n",
      "54/54 - 1s - loss: 0.0187 - val_loss: 0.0206\n",
      "Epoch 97/100\n",
      "54/54 - 1s - loss: 0.0197 - val_loss: 0.0138\n",
      "Epoch 98/100\n",
      "54/54 - 1s - loss: 0.0206 - val_loss: 0.0163\n",
      "Epoch 99/100\n",
      "54/54 - 1s - loss: 0.0201 - val_loss: 0.0138\n",
      "Epoch 100/100\n",
      "54/54 - 1s - loss: 0.0200 - val_loss: 0.0141\n"
     ]
    }
   ],
   "source": [
    "#treinamento modelo\n",
    "validation=model.fit(x_train,y_train, validation_data=(x_test, y_test), epochs=100, batch_size=15, verbose=2)"
   ]
  },
  {
   "cell_type": "code",
   "execution_count": 16,
   "metadata": {},
   "outputs": [
    {
     "data": {
      "text/plain": [
       "<matplotlib.legend.Legend at 0x2452f630c70>"
      ]
     },
     "execution_count": 16,
     "metadata": {},
     "output_type": "execute_result"
    },
    {
     "data": {
      "image/png": "[encoded data removed]",
      "text/plain": [
       "<Figure size 432x288 with 1 Axes>"
      ]
     },
     "metadata": {
      "needs_background": "light"
     },
     "output_type": "display_data"
    }
   ],
   "source": [
    "\n",
    "plt.plot(validation.history['loss'], label='Training loss')\n",
    "plt.plot(validation.history['val_loss'], label='Validation loss')\n",
    "plt.legend()"
   ]
  },
  {
   "cell_type": "code",
   "execution_count": 17,
   "metadata": {},
   "outputs": [
    {
     "data": {
      "text/html": [
       "<div>\n",
       "<style scoped>\n",
       "    .dataframe tbody tr th:only-of-type {\n",
       "        vertical-align: middle;\n",
       "    }\n",
       "\n",
       "    .dataframe tbody tr th {\n",
       "        vertical-align: top;\n",
       "    }\n",
       "\n",
       "    .dataframe thead th {\n",
       "        text-align: right;\n",
       "    }\n",
       "</style>\n",
       "<table border=\"1\" class=\"dataframe\">\n",
       "  <thead>\n",
       "    <tr style=\"text-align: right;\">\n",
       "      <th></th>\n",
       "      <th>loss</th>\n",
       "      <th>val_loss</th>\n",
       "    </tr>\n",
       "  </thead>\n",
       "  <tbody>\n",
       "    <tr>\n",
       "      <th>0</th>\n",
       "      <td>0.268696</td>\n",
       "      <td>0.087160</td>\n",
       "    </tr>\n",
       "    <tr>\n",
       "      <th>1</th>\n",
       "      <td>0.113227</td>\n",
       "      <td>0.058080</td>\n",
       "    </tr>\n",
       "    <tr>\n",
       "      <th>2</th>\n",
       "      <td>0.088921</td>\n",
       "      <td>0.054748</td>\n",
       "    </tr>\n",
       "    <tr>\n",
       "      <th>3</th>\n",
       "      <td>0.070616</td>\n",
       "      <td>0.039223</td>\n",
       "    </tr>\n",
       "    <tr>\n",
       "      <th>4</th>\n",
       "      <td>0.052704</td>\n",
       "      <td>0.059503</td>\n",
       "    </tr>\n",
       "    <tr>\n",
       "      <th>...</th>\n",
       "      <td>...</td>\n",
       "      <td>...</td>\n",
       "    </tr>\n",
       "    <tr>\n",
       "      <th>95</th>\n",
       "      <td>0.018749</td>\n",
       "      <td>0.020640</td>\n",
       "    </tr>\n",
       "    <tr>\n",
       "      <th>96</th>\n",
       "      <td>0.019697</td>\n",
       "      <td>0.013791</td>\n",
       "    </tr>\n",
       "    <tr>\n",
       "      <th>97</th>\n",
       "      <td>0.020622</td>\n",
       "      <td>0.016298</td>\n",
       "    </tr>\n",
       "    <tr>\n",
       "      <th>98</th>\n",
       "      <td>0.020137</td>\n",
       "      <td>0.013770</td>\n",
       "    </tr>\n",
       "    <tr>\n",
       "      <th>99</th>\n",
       "      <td>0.020027</td>\n",
       "      <td>0.014106</td>\n",
       "    </tr>\n",
       "  </tbody>\n",
       "</table>\n",
       "<p>100 rows × 2 columns</p>\n",
       "</div>"
      ],
      "text/plain": [
       "        loss  val_loss\n",
       "0   0.268696  0.087160\n",
       "1   0.113227  0.058080\n",
       "2   0.088921  0.054748\n",
       "3   0.070616  0.039223\n",
       "4   0.052704  0.059503\n",
       "..       ...       ...\n",
       "95  0.018749  0.020640\n",
       "96  0.019697  0.013791\n",
       "97  0.020622  0.016298\n",
       "98  0.020137  0.013770\n",
       "99  0.020027  0.014106\n",
       "\n",
       "[100 rows x 2 columns]"
      ]
     },
     "execution_count": 17,
     "metadata": {},
     "output_type": "execute_result"
    }
   ],
   "source": [
    "val=pd.DataFrame(validation.history)\n",
    "val"
   ]
  },
  {
   "cell_type": "code",
   "execution_count": 18,
   "metadata": {},
   "outputs": [
    {
     "data": {
      "application/vnd.plotly.v1+json": {
       "config": {
        "plotlyServerURL": "https://plot.ly"
       },
       "data": [
        {
         "hovertemplate": "variable=loss<br>index=%{x}<br>value=%{y}<extra></extra>",
         "legendgroup": "loss",
         "line": {
          "color": "#636efa",
          "dash": "solid"
         },
         "marker": {
          "symbol": "circle"
         },
         "mode": "lines",
         "name": "loss",
         "orientation": "v",
         "showlegend": true,
         "type": "scatter",
         "x": [
          0,
          1,
          2,
          3,
          4,
          5,
          6,
          7,
          8,
          9,
          10,
          11,
          12,
          13,
          14,
          15,
          16,
          17,
          18,
          19,
          20,
          21,
          22,
          23,
          24,
          25,
          26,
          27,
          28,
          29,
          30,
          31,
          32,
          33,
          34,
          35,
          36,
          37,
          38,
          39,
          40,
          41,
          42,
          43,
          44,
          45,
          46,
          47,
          48,
          49,
          50,
          51,
          52,
          53,
          54,
          55,
          56,
          57,
          58,
          59,
          60,
          61,
          62,
          63,
          64,
          65,
          66,
          67,
          68,
          69,
          70,
          71,
          72,
          73,
          74,
          75,
          76,
          77,
          78,
          79,
          80,
          81,
          82,
          83,
          84,
          85,
          86,
          87,
          88,
          89,
          90,
          91,
          92,
          93,
          94,
          95,
          96,
          97,
          98,
          99
         ],
         "xaxis": "x",
         "y": [
          0.2686956226825714,
          0.11322743445634842,
          0.08892089873552322,
          0.0706157311797142,
          0.05270352587103844,
          0.05530742555856705,
          0.050159770995378494,
          0.05151839181780815,
          0.04442811384797096,
          0.04082684963941574,
          0.04256286099553108,
          0.04053648188710213,
          0.040260426700115204,
          0.036352306604385376,
          0.035770345479249954,
          0.0341254323720932,
          0.035392969846725464,
          0.033622510731220245,
          0.03515045344829559,
          0.03028756007552147,
          0.027164220809936523,
          0.03182891756296158,
          0.027489200234413147,
          0.03341856598854065,
          0.02621694654226303,
          0.027430685237050056,
          0.025506306439638138,
          0.022166593000292778,
          0.025661002844572067,
          0.024874595925211906,
          0.02295723743736744,
          0.023316288366913795,
          0.022975027561187744,
          0.021683085709810257,
          0.024126669391989708,
          0.0215077456086874,
          0.02198633924126625,
          0.02174152247607708,
          0.022761933505535126,
          0.022827934473752975,
          0.020052850246429443,
          0.020924163982272148,
          0.020543742924928665,
          0.021095486357808113,
          0.021819772198796272,
          0.021908791735768318,
          0.019741317257285118,
          0.01942375674843788,
          0.021799659356474876,
          0.02165459468960762,
          0.023069068789482117,
          0.023262640461325645,
          0.02082287333905697,
          0.01960780657827854,
          0.01976417750120163,
          0.02033941075205803,
          0.02194076217710972,
          0.02085121162235737,
          0.02030153200030327,
          0.02303461730480194,
          0.01973232813179493,
          0.020139066502451897,
          0.01938873901963234,
          0.017949378117918968,
          0.020488174632191658,
          0.019502749666571617,
          0.020521128550171852,
          0.02026456780731678,
          0.01926397532224655,
          0.01973743923008442,
          0.020513683557510376,
          0.0211197342723608,
          0.02498556114733219,
          0.020295731723308563,
          0.01956861838698387,
          0.02117166481912136,
          0.021657001227140427,
          0.01940721645951271,
          0.0198209285736084,
          0.019238686189055443,
          0.020221086218953133,
          0.01974639855325222,
          0.019613200798630714,
          0.01907777599990368,
          0.0187106691300869,
          0.018935242667794228,
          0.019397448748350143,
          0.020978009328246117,
          0.019612060859799385,
          0.01879480853676796,
          0.01809357851743698,
          0.019915208220481873,
          0.0202497486025095,
          0.02113814279437065,
          0.018804557621479034,
          0.0187494158744812,
          0.019696880131959915,
          0.020621992647647858,
          0.020137101411819458,
          0.020027369260787964
         ],
         "yaxis": "y"
        },
        {
         "hovertemplate": "variable=val_loss<br>index=%{x}<br>value=%{y}<extra></extra>",
         "legendgroup": "val_loss",
         "line": {
          "color": "#EF553B",
          "dash": "solid"
         },
         "marker": {
          "symbol": "circle"
         },
         "mode": "lines",
         "name": "val_loss",
         "orientation": "v",
         "showlegend": true,
         "type": "scatter",
         "x": [
          0,
          1,
          2,
          3,
          4,
          5,
          6,
          7,
          8,
          9,
          10,
          11,
          12,
          13,
          14,
          15,
          16,
          17,
          18,
          19,
          20,
          21,
          22,
          23,
          24,
          25,
          26,
          27,
          28,
          29,
          30,
          31,
          32,
          33,
          34,
          35,
          36,
          37,
          38,
          39,
          40,
          41,
          42,
          43,
          44,
          45,
          46,
          47,
          48,
          49,
          50,
          51,
          52,
          53,
          54,
          55,
          56,
          57,
          58,
          59,
          60,
          61,
          62,
          63,
          64,
          65,
          66,
          67,
          68,
          69,
          70,
          71,
          72,
          73,
          74,
          75,
          76,
          77,
          78,
          79,
          80,
          81,
          82,
          83,
          84,
          85,
          86,
          87,
          88,
          89,
          90,
          91,
          92,
          93,
          94,
          95,
          96,
          97,
          98,
          99
         ],
         "xaxis": "x",
         "y": [
          0.08715983480215073,
          0.05808008834719658,
          0.054748330265283585,
          0.039222728461027145,
          0.05950285494327545,
          0.03971841558814049,
          0.044073447585105896,
          0.032761625945568085,
          0.03075360506772995,
          0.03023521602153778,
          0.0328265056014061,
          0.028001880273222923,
          0.02869834564626217,
          0.025563383474946022,
          0.03538571670651436,
          0.023094218224287033,
          0.024701150134205818,
          0.02126323990523815,
          0.020394138991832733,
          0.02580947056412697,
          0.02579091675579548,
          0.018764298409223557,
          0.030616946518421173,
          0.02527749352157116,
          0.019441258162260056,
          0.017619652673602104,
          0.017522349953651428,
          0.017704874277114868,
          0.016614796593785286,
          0.015439938753843307,
          0.015070050023496151,
          0.01771676167845726,
          0.014650397934019566,
          0.017341015860438347,
          0.014892913401126862,
          0.01622077263891697,
          0.014159421436488628,
          0.015044140629470348,
          0.020437421277165413,
          0.014505119994282722,
          0.014465956017374992,
          0.014680260792374611,
          0.01373684499412775,
          0.013611119240522385,
          0.014889365993440151,
          0.01716405339539051,
          0.014138240367174149,
          0.014798835851252079,
          0.015391187742352486,
          0.015056692995131016,
          0.01720249466598034,
          0.014239686541259289,
          0.013852746225893497,
          0.01609029248356819,
          0.017599429935216904,
          0.014681837521493435,
          0.02123694308102131,
          0.014646116644144058,
          0.013993329368531704,
          0.013490616343915462,
          0.01669909618794918,
          0.017637241631746292,
          0.013630270957946777,
          0.014638682827353477,
          0.015433761291205883,
          0.01427941583096981,
          0.013933738693594933,
          0.014546778053045273,
          0.014110608026385307,
          0.013470824807882309,
          0.013491638004779816,
          0.013910637237131596,
          0.01527756080031395,
          0.015841487795114517,
          0.013528968207538128,
          0.01586252823472023,
          0.014306915923953056,
          0.015511675737798214,
          0.014187376014888287,
          0.013863182626664639,
          0.015597731806337833,
          0.019924327731132507,
          0.014037254266440868,
          0.01350759994238615,
          0.013622108846902847,
          0.015364649705588818,
          0.015158812515437603,
          0.013800377957522869,
          0.015440181829035282,
          0.01593099534511566,
          0.01363479346036911,
          0.014082235284149647,
          0.015486592426896095,
          0.015107644721865654,
          0.013677714392542839,
          0.020639736205339432,
          0.01379078533500433,
          0.016298286616802216,
          0.013770361430943012,
          0.01410570926964283
         ],
         "yaxis": "y"
        }
       ],
       "layout": {
        "legend": {
         "title": {
          "text": "variable"
         },
         "tracegroupgap": 0
        },
        "margin": {
         "t": 60
        },
        "template": {
         "data": {
          "bar": [
           {
            "error_x": {
             "color": "#2a3f5f"
            },
            "error_y": {
             "color": "#2a3f5f"
            },
            "marker": {
             "line": {
              "color": "#E5ECF6",
              "width": 0.5
             },
             "pattern": {
              "fillmode": "overlay",
              "size": 10,
              "solidity": 0.2
             }
            },
            "type": "bar"
           }
          ],
          "barpolar": [
           {
            "marker": {
             "line": {
              "color": "#E5ECF6",
              "width": 0.5
             },
             "pattern": {
              "fillmode": "overlay",
              "size": 10,
              "solidity": 0.2
             }
            },
            "type": "barpolar"
           }
          ],
          "carpet": [
           {
            "aaxis": {
             "endlinecolor": "#2a3f5f",
             "gridcolor": "white",
             "linecolor": "white",
             "minorgridcolor": "white",
             "startlinecolor": "#2a3f5f"
            },
            "baxis": {
             "endlinecolor": "#2a3f5f",
             "gridcolor": "white",
             "linecolor": "white",
             "minorgridcolor": "white",
             "startlinecolor": "#2a3f5f"
            },
            "type": "carpet"
           }
          ],
          "choropleth": [
           {
            "colorbar": {
             "outlinewidth": 0,
             "ticks": ""
            },
            "type": "choropleth"
           }
          ],
          "contour": [
           {
            "colorbar": {
             "outlinewidth": 0,
             "ticks": ""
            },
            "colorscale": [
             [
              0,
              "#0d0887"
             ],
             [
              0.1111111111111111,
              "#46039f"
             ],
             [
              0.2222222222222222,
              "#7201a8"
             ],
             [
              0.3333333333333333,
              "#9c179e"
             ],
             [
              0.4444444444444444,
              "#bd3786"
             ],
             [
              0.5555555555555556,
              "#d8576b"
             ],
             [
              0.6666666666666666,
              "#ed7953"
             ],
             [
              0.7777777777777778,
              "#fb9f3a"
             ],
             [
              0.8888888888888888,
              "#fdca26"
             ],
             [
              1,
              "#f0f921"
             ]
            ],
            "type": "contour"
           }
          ],
          "contourcarpet": [
           {
            "colorbar": {
             "outlinewidth": 0,
             "ticks": ""
            },
            "type": "contourcarpet"
           }
          ],
          "heatmap": [
           {
            "colorbar": {
             "outlinewidth": 0,
             "ticks": ""
            },
            "colorscale": [
             [
              0,
              "#0d0887"
             ],
             [
              0.1111111111111111,
              "#46039f"
             ],
             [
              0.2222222222222222,
              "#7201a8"
             ],
             [
              0.3333333333333333,
              "#9c179e"
             ],
             [
              0.4444444444444444,
              "#bd3786"
             ],
             [
              0.5555555555555556,
              "#d8576b"
             ],
             [
              0.6666666666666666,
              "#ed7953"
             ],
             [
              0.7777777777777778,
              "#fb9f3a"
             ],
             [
              0.8888888888888888,
              "#fdca26"
             ],
             [
              1,
              "#f0f921"
             ]
            ],
            "type": "heatmap"
           }
          ],
          "heatmapgl": [
           {
            "colorbar": {
             "outlinewidth": 0,
             "ticks": ""
            },
            "colorscale": [
             [
              0,
              "#0d0887"
             ],
             [
              0.1111111111111111,
              "#46039f"
             ],
             [
              0.2222222222222222,
              "#7201a8"
             ],
             [
              0.3333333333333333,
              "#9c179e"
             ],
             [
              0.4444444444444444,
              "#bd3786"
             ],
             [
              0.5555555555555556,
              "#d8576b"
             ],
             [
              0.6666666666666666,
              "#ed7953"
             ],
             [
              0.7777777777777778,
              "#fb9f3a"
             ],
             [
              0.8888888888888888,
              "#fdca26"
             ],
             [
              1,
              "#f0f921"
             ]
            ],
            "type": "heatmapgl"
           }
          ],
          "histogram": [
           {
            "marker": {
             "pattern": {
              "fillmode": "overlay",
              "size": 10,
              "solidity": 0.2
             }
            },
            "type": "histogram"
           }
          ],
          "histogram2d": [
           {
            "colorbar": {
             "outlinewidth": 0,
             "ticks": ""
            },
            "colorscale": [
             [
              0,
              "#0d0887"
             ],
             [
              0.1111111111111111,
              "#46039f"
             ],
             [
              0.2222222222222222,
              "#7201a8"
             ],
             [
              0.3333333333333333,
              "#9c179e"
             ],
             [
              0.4444444444444444,
              "#bd3786"
             ],
             [
              0.5555555555555556,
              "#d8576b"
             ],
             [
              0.6666666666666666,
              "#ed7953"
             ],
             [
              0.7777777777777778,
              "#fb9f3a"
             ],
             [
              0.8888888888888888,
              "#fdca26"
             ],
             [
              1,
              "#f0f921"
             ]
            ],
            "type": "histogram2d"
           }
          ],
          "histogram2dcontour": [
           {
            "colorbar": {
             "outlinewidth": 0,
             "ticks": ""
            },
            "colorscale": [
             [
              0,
              "#0d0887"
             ],
             [
              0.1111111111111111,
              "#46039f"
             ],
             [
              0.2222222222222222,
              "#7201a8"
             ],
             [
              0.3333333333333333,
              "#9c179e"
             ],
             [
              0.4444444444444444,
              "#bd3786"
             ],
             [
              0.5555555555555556,
              "#d8576b"
             ],
             [
              0.6666666666666666,
              "#ed7953"
             ],
             [
              0.7777777777777778,
              "#fb9f3a"
             ],
             [
              0.8888888888888888,
              "#fdca26"
             ],
             [
              1,
              "#f0f921"
             ]
            ],
            "type": "histogram2dcontour"
           }
          ],
          "mesh3d": [
           {
            "colorbar": {
             "outlinewidth": 0,
             "ticks": ""
            },
            "type": "mesh3d"
           }
          ],
          "parcoords": [
           {
            "line": {
             "colorbar": {
              "outlinewidth": 0,
              "ticks": ""
             }
            },
            "type": "parcoords"
           }
          ],
          "pie": [
           {
            "automargin": true,
            "type": "pie"
           }
          ],
          "scatter": [
           {
            "marker": {
             "colorbar": {
              "outlinewidth": 0,
              "ticks": ""
             }
            },
            "type": "scatter"
           }
          ],
          "scatter3d": [
           {
            "line": {
             "colorbar": {
              "outlinewidth": 0,
              "ticks": ""
             }
            },
            "marker": {
             "colorbar": {
              "outlinewidth": 0,
              "ticks": ""
             }
            },
            "type": "scatter3d"
           }
          ],
          "scattercarpet": [
           {
            "marker": {
             "colorbar": {
              "outlinewidth": 0,
              "ticks": ""
             }
            },
            "type": "scattercarpet"
           }
          ],
          "scattergeo": [
           {
            "marker": {
             "colorbar": {
              "outlinewidth": 0,
              "ticks": ""
             }
            },
            "type": "scattergeo"
           }
          ],
          "scattergl": [
           {
            "marker": {
             "colorbar": {
              "outlinewidth": 0,
              "ticks": ""
             }
            },
            "type": "scattergl"
           }
          ],
          "scattermapbox": [
           {
            "marker": {
             "colorbar": {
              "outlinewidth": 0,
              "ticks": ""
             }
            },
            "type": "scattermapbox"
           }
          ],
          "scatterpolar": [
           {
            "marker": {
             "colorbar": {
              "outlinewidth": 0,
              "ticks": ""
             }
            },
            "type": "scatterpolar"
           }
          ],
          "scatterpolargl": [
           {
            "marker": {
             "colorbar": {
              "outlinewidth": 0,
              "ticks": ""
             }
            },
            "type": "scatterpolargl"
           }
          ],
          "scatterternary": [
           {
            "marker": {
             "colorbar": {
              "outlinewidth": 0,
              "ticks": ""
             }
            },
            "type": "scatterternary"
           }
          ],
          "surface": [
           {
            "colorbar": {
             "outlinewidth": 0,
             "ticks": ""
            },
            "colorscale": [
             [
              0,
              "#0d0887"
             ],
             [
              0.1111111111111111,
              "#46039f"
             ],
             [
              0.2222222222222222,
              "#7201a8"
             ],
             [
              0.3333333333333333,
              "#9c179e"
             ],
             [
              0.4444444444444444,
              "#bd3786"
             ],
             [
              0.5555555555555556,
              "#d8576b"
             ],
             [
              0.6666666666666666,
              "#ed7953"
             ],
             [
              0.7777777777777778,
              "#fb9f3a"
             ],
             [
              0.8888888888888888,
              "#fdca26"
             ],
             [
              1,
              "#f0f921"
             ]
            ],
            "type": "surface"
           }
          ],
          "table": [
           {
            "cells": {
             "fill": {
              "color": "#EBF0F8"
             },
             "line": {
              "color": "white"
             }
            },
            "header": {
             "fill": {
              "color": "#C8D4E3"
             },
             "line": {
              "color": "white"
             }
            },
            "type": "table"
           }
          ]
         },
         "layout": {
          "annotationdefaults": {
           "arrowcolor": "#2a3f5f",
           "arrowhead": 0,
           "arrowwidth": 1
          },
          "autotypenumbers": "strict",
          "coloraxis": {
           "colorbar": {
            "outlinewidth": 0,
            "ticks": ""
           }
          },
          "colorscale": {
           "diverging": [
            [
             0,
             "#8e0152"
            ],
            [
             0.1,
             "#c51b7d"
            ],
            [
             0.2,
             "#de77ae"
            ],
            [
             0.3,
             "#f1b6da"
            ],
            [
             0.4,
             "#fde0ef"
            ],
            [
             0.5,
             "#f7f7f7"
            ],
            [
             0.6,
             "#e6f5d0"
            ],
            [
             0.7,
             "#b8e186"
            ],
            [
             0.8,
             "#7fbc41"
            ],
            [
             0.9,
             "#4d9221"
            ],
            [
             1,
             "#276419"
            ]
           ],
           "sequential": [
            [
             0,
             "#0d0887"
            ],
            [
             0.1111111111111111,
             "#46039f"
            ],
            [
             0.2222222222222222,
             "#7201a8"
            ],
            [
             0.3333333333333333,
             "#9c179e"
            ],
            [
             0.4444444444444444,
             "#bd3786"
            ],
            [
             0.5555555555555556,
             "#d8576b"
            ],
            [
             0.6666666666666666,
             "#ed7953"
            ],
            [
             0.7777777777777778,
             "#fb9f3a"
            ],
            [
             0.8888888888888888,
             "#fdca26"
            ],
            [
             1,
             "#f0f921"
            ]
           ],
           "sequentialminus": [
            [
             0,
             "#0d0887"
            ],
            [
             0.1111111111111111,
             "#46039f"
            ],
            [
             0.2222222222222222,
             "#7201a8"
            ],
            [
             0.3333333333333333,
             "#9c179e"
            ],
            [
             0.4444444444444444,
             "#bd3786"
            ],
            [
             0.5555555555555556,
             "#d8576b"
            ],
            [
             0.6666666666666666,
             "#ed7953"
            ],
            [
             0.7777777777777778,
             "#fb9f3a"
            ],
            [
             0.8888888888888888,
             "#fdca26"
            ],
            [
             1,
             "#f0f921"
            ]
           ]
          },
          "colorway": [
           "#636efa",
           "#EF553B",
           "#00cc96",
           "#ab63fa",
           "#FFA15A",
           "#19d3f3",
           "#FF6692",
           "#B6E880",
           "#FF97FF",
           "#FECB52"
          ],
          "font": {
           "color": "#2a3f5f"
          },
          "geo": {
           "bgcolor": "white",
           "lakecolor": "white",
           "landcolor": "#E5ECF6",
           "showlakes": true,
           "showland": true,
           "subunitcolor": "white"
          },
          "hoverlabel": {
           "align": "left"
          },
          "hovermode": "closest",
          "mapbox": {
           "style": "light"
          },
          "paper_bgcolor": "white",
          "plot_bgcolor": "#E5ECF6",
          "polar": {
           "angularaxis": {
            "gridcolor": "white",
            "linecolor": "white",
            "ticks": ""
           },
           "bgcolor": "#E5ECF6",
           "radialaxis": {
            "gridcolor": "white",
            "linecolor": "white",
            "ticks": ""
           }
          },
          "scene": {
           "xaxis": {
            "backgroundcolor": "#E5ECF6",
            "gridcolor": "white",
            "gridwidth": 2,
            "linecolor": "white",
            "showbackground": true,
            "ticks": "",
            "zerolinecolor": "white"
           },
           "yaxis": {
            "backgroundcolor": "#E5ECF6",
            "gridcolor": "white",
            "gridwidth": 2,
            "linecolor": "white",
            "showbackground": true,
            "ticks": "",
            "zerolinecolor": "white"
           },
           "zaxis": {
            "backgroundcolor": "#E5ECF6",
            "gridcolor": "white",
            "gridwidth": 2,
            "linecolor": "white",
            "showbackground": true,
            "ticks": "",
            "zerolinecolor": "white"
           }
          },
          "shapedefaults": {
           "line": {
            "color": "#2a3f5f"
           }
          },
          "ternary": {
           "aaxis": {
            "gridcolor": "white",
            "linecolor": "white",
            "ticks": ""
           },
           "baxis": {
            "gridcolor": "white",
            "linecolor": "white",
            "ticks": ""
           },
           "bgcolor": "#E5ECF6",
           "caxis": {
            "gridcolor": "white",
            "linecolor": "white",
            "ticks": ""
           }
          },
          "title": {
           "x": 0.05
          },
          "xaxis": {
           "automargin": true,
           "gridcolor": "white",
           "linecolor": "white",
           "ticks": "",
           "title": {
            "standoff": 15
           },
           "zerolinecolor": "white",
           "zerolinewidth": 2
          },
          "yaxis": {
           "automargin": true,
           "gridcolor": "white",
           "linecolor": "white",
           "ticks": "",
           "title": {
            "standoff": 15
           },
           "zerolinecolor": "white",
           "zerolinewidth": 2
          }
         }
        },
        "xaxis": {
         "anchor": "y",
         "domain": [
          0,
          1
         ],
         "title": {
          "text": "index"
         }
        },
        "yaxis": {
         "anchor": "x",
         "domain": [
          0,
          1
         ],
         "title": {
          "text": "value"
         }
        }
       }
      },
      "text/html": [
       "<div>                            <div id=\"6260b376-2732-4e7f-b993-902f4caede81\" class=\"plotly-graph-div\" style=\"height:525px; width:100%;\"></div>            <script type=\"text/javascript\">                require([\"plotly\"], function(Plotly) {                    window.PLOTLYENV=window.PLOTLYENV || {};                                    if (document.getElementById(\"6260b376-2732-4e7f-b993-902f4caede81\")) {                    Plotly.newPlot(                        \"6260b376-2732-4e7f-b993-902f4caede81\",                        [{\"hovertemplate\":\"variable=loss<br>index=%{x}<br>value=%{y}<extra></extra>\",\"legendgroup\":\"loss\",\"line\":{\"color\":\"#636efa\",\"dash\":\"solid\"},\"marker\":{\"symbol\":\"circle\"},\"mode\":\"lines\",\"name\":\"loss\",\"orientation\":\"v\",\"showlegend\":true,\"type\":\"scatter\",\"x\":[0,1,2,3,4,5,6,7,8,9,10,11,12,13,14,15,16,17,18,19,20,21,22,23,24,25,26,27,28,29,30,31,32,33,34,35,36,37,38,39,40,41,42,43,44,45,46,47,48,49,50,51,52,53,54,55,56,57,58,59,60,61,62,63,64,65,66,67,68,69,70,71,72,73,74,75,76,77,78,79,80,81,82,83,84,85,86,87,88,89,90,91,92,93,94,95,96,97,98,99],\"xaxis\":\"x\",\"y\":[0.2686956226825714,0.11322743445634842,0.08892089873552322,0.0706157311797142,0.05270352587103844,0.05530742555856705,0.050159770995378494,0.05151839181780815,0.04442811384797096,0.04082684963941574,0.04256286099553108,0.04053648188710213,0.040260426700115204,0.036352306604385376,0.035770345479249954,0.0341254323720932,0.035392969846725464,0.033622510731220245,0.03515045344829559,0.03028756007552147,0.027164220809936523,0.03182891756296158,0.027489200234413147,0.03341856598854065,0.02621694654226303,0.027430685237050056,0.025506306439638138,0.022166593000292778,0.025661002844572067,0.024874595925211906,0.02295723743736744,0.023316288366913795,0.022975027561187744,0.021683085709810257,0.024126669391989708,0.0215077456086874,0.02198633924126625,0.02174152247607708,0.022761933505535126,0.022827934473752975,0.020052850246429443,0.020924163982272148,0.020543742924928665,0.021095486357808113,0.021819772198796272,0.021908791735768318,0.019741317257285118,0.01942375674843788,0.021799659356474876,0.02165459468960762,0.023069068789482117,0.023262640461325645,0.02082287333905697,0.01960780657827854,0.01976417750120163,0.02033941075205803,0.02194076217710972,0.02085121162235737,0.02030153200030327,0.02303461730480194,0.01973232813179493,0.020139066502451897,0.01938873901963234,0.017949378117918968,0.020488174632191658,0.019502749666571617,0.020521128550171852,0.02026456780731678,0.01926397532224655,0.01973743923008442,0.020513683557510376,0.0211197342723608,0.02498556114733219,0.020295731723308563,0.01956861838698387,0.02117166481912136,0.021657001227140427,0.01940721645951271,0.0198209285736084,0.019238686189055443,0.020221086218953133,0.01974639855325222,0.019613200798630714,0.01907777599990368,0.0187106691300869,0.018935242667794228,0.019397448748350143,0.020978009328246117,0.019612060859799385,0.01879480853676796,0.01809357851743698,0.019915208220481873,0.0202497486025095,0.02113814279437065,0.018804557621479034,0.0187494158744812,0.019696880131959915,0.020621992647647858,0.020137101411819458,0.020027369260787964],\"yaxis\":\"y\"},{\"hovertemplate\":\"variable=val_loss<br>index=%{x}<br>value=%{y}<extra></extra>\",\"legendgroup\":\"val_loss\",\"line\":{\"color\":\"#EF553B\",\"dash\":\"solid\"},\"marker\":{\"symbol\":\"circle\"},\"mode\":\"lines\",\"name\":\"val_loss\",\"orientation\":\"v\",\"showlegend\":true,\"type\":\"scatter\",\"x\":[0,1,2,3,4,5,6,7,8,9,10,11,12,13,14,15,16,17,18,19,20,21,22,23,24,25,26,27,28,29,30,31,32,33,34,35,36,37,38,39,40,41,42,43,44,45,46,47,48,49,50,51,52,53,54,55,56,57,58,59,60,61,62,63,64,65,66,67,68,69,70,71,72,73,74,75,76,77,78,79,80,81,82,83,84,85,86,87,88,89,90,91,92,93,94,95,96,97,98,99],\"xaxis\":\"x\",\"y\":[0.08715983480215073,0.05808008834719658,0.054748330265283585,0.039222728461027145,0.05950285494327545,0.03971841558814049,0.044073447585105896,0.032761625945568085,0.03075360506772995,0.03023521602153778,0.0328265056014061,0.028001880273222923,0.02869834564626217,0.025563383474946022,0.03538571670651436,0.023094218224287033,0.024701150134205818,0.02126323990523815,0.020394138991832733,0.02580947056412697,0.02579091675579548,0.018764298409223557,0.030616946518421173,0.02527749352157116,0.019441258162260056,0.017619652673602104,0.017522349953651428,0.017704874277114868,0.016614796593785286,0.015439938753843307,0.015070050023496151,0.01771676167845726,0.014650397934019566,0.017341015860438347,0.014892913401126862,0.01622077263891697,0.014159421436488628,0.015044140629470348,0.020437421277165413,0.014505119994282722,0.014465956017374992,0.014680260792374611,0.01373684499412775,0.013611119240522385,0.014889365993440151,0.01716405339539051,0.014138240367174149,0.014798835851252079,0.015391187742352486,0.015056692995131016,0.01720249466598034,0.014239686541259289,0.013852746225893497,0.01609029248356819,0.017599429935216904,0.014681837521493435,0.02123694308102131,0.014646116644144058,0.013993329368531704,0.013490616343915462,0.01669909618794918,0.017637241631746292,0.013630270957946777,0.014638682827353477,0.015433761291205883,0.01427941583096981,0.013933738693594933,0.014546778053045273,0.014110608026385307,0.013470824807882309,0.013491638004779816,0.013910637237131596,0.01527756080031395,0.015841487795114517,0.013528968207538128,0.01586252823472023,0.014306915923953056,0.015511675737798214,0.014187376014888287,0.013863182626664639,0.015597731806337833,0.019924327731132507,0.014037254266440868,0.01350759994238615,0.013622108846902847,0.015364649705588818,0.015158812515437603,0.013800377957522869,0.015440181829035282,0.01593099534511566,0.01363479346036911,0.014082235284149647,0.015486592426896095,0.015107644721865654,0.013677714392542839,0.020639736205339432,0.01379078533500433,0.016298286616802216,0.013770361430943012,0.01410570926964283],\"yaxis\":\"y\"}],                        {\"legend\":{\"title\":{\"text\":\"variable\"},\"tracegroupgap\":0},\"margin\":{\"t\":60},\"template\":{\"data\":{\"bar\":[{\"error_x\":{\"color\":\"#2a3f5f\"},\"error_y\":{\"color\":\"#2a3f5f\"},\"marker\":{\"line\":{\"color\":\"#E5ECF6\",\"width\":0.5},\"pattern\":{\"fillmode\":\"overlay\",\"size\":10,\"solidity\":0.2}},\"type\":\"bar\"}],\"barpolar\":[{\"marker\":{\"line\":{\"color\":\"#E5ECF6\",\"width\":0.5},\"pattern\":{\"fillmode\":\"overlay\",\"size\":10,\"solidity\":0.2}},\"type\":\"barpolar\"}],\"carpet\":[{\"aaxis\":{\"endlinecolor\":\"#2a3f5f\",\"gridcolor\":\"white\",\"linecolor\":\"white\",\"minorgridcolor\":\"white\",\"startlinecolor\":\"#2a3f5f\"},\"baxis\":{\"endlinecolor\":\"#2a3f5f\",\"gridcolor\":\"white\",\"linecolor\":\"white\",\"minorgridcolor\":\"white\",\"startlinecolor\":\"#2a3f5f\"},\"type\":\"carpet\"}],\"choropleth\":[{\"colorbar\":{\"outlinewidth\":0,\"ticks\":\"\"},\"type\":\"choropleth\"}],\"contour\":[{\"colorbar\":{\"outlinewidth\":0,\"ticks\":\"\"},\"colorscale\":[[0.0,\"#0d0887\"],[0.1111111111111111,\"#46039f\"],[0.2222222222222222,\"#7201a8\"],[0.3333333333333333,\"#9c179e\"],[0.4444444444444444,\"#bd3786\"],[0.5555555555555556,\"#d8576b\"],[0.6666666666666666,\"#ed7953\"],[0.7777777777777778,\"#fb9f3a\"],[0.8888888888888888,\"#fdca26\"],[1.0,\"#f0f921\"]],\"type\":\"contour\"}],\"contourcarpet\":[{\"colorbar\":{\"outlinewidth\":0,\"ticks\":\"\"},\"type\":\"contourcarpet\"}],\"heatmap\":[{\"colorbar\":{\"outlinewidth\":0,\"ticks\":\"\"},\"colorscale\":[[0.0,\"#0d0887\"],[0.1111111111111111,\"#46039f\"],[0.2222222222222222,\"#7201a8\"],[0.3333333333333333,\"#9c179e\"],[0.4444444444444444,\"#bd3786\"],[0.5555555555555556,\"#d8576b\"],[0.6666666666666666,\"#ed7953\"],[0.7777777777777778,\"#fb9f3a\"],[0.8888888888888888,\"#fdca26\"],[1.0,\"#f0f921\"]],\"type\":\"heatmap\"}],\"heatmapgl\":[{\"colorbar\":{\"outlinewidth\":0,\"ticks\":\"\"},\"colorscale\":[[0.0,\"#0d0887\"],[0.1111111111111111,\"#46039f\"],[0.2222222222222222,\"#7201a8\"],[0.3333333333333333,\"#9c179e\"],[0.4444444444444444,\"#bd3786\"],[0.5555555555555556,\"#d8576b\"],[0.6666666666666666,\"#ed7953\"],[0.7777777777777778,\"#fb9f3a\"],[0.8888888888888888,\"#fdca26\"],[1.0,\"#f0f921\"]],\"type\":\"heatmapgl\"}],\"histogram\":[{\"marker\":{\"pattern\":{\"fillmode\":\"overlay\",\"size\":10,\"solidity\":0.2}},\"type\":\"histogram\"}],\"histogram2d\":[{\"colorbar\":{\"outlinewidth\":0,\"ticks\":\"\"},\"colorscale\":[[0.0,\"#0d0887\"],[0.1111111111111111,\"#46039f\"],[0.2222222222222222,\"#7201a8\"],[0.3333333333333333,\"#9c179e\"],[0.4444444444444444,\"#bd3786\"],[0.5555555555555556,\"#d8576b\"],[0.6666666666666666,\"#ed7953\"],[0.7777777777777778,\"#fb9f3a\"],[0.8888888888888888,\"#fdca26\"],[1.0,\"#f0f921\"]],\"type\":\"histogram2d\"}],\"histogram2dcontour\":[{\"colorbar\":{\"outlinewidth\":0,\"ticks\":\"\"},\"colorscale\":[[0.0,\"#0d0887\"],[0.1111111111111111,\"#46039f\"],[0.2222222222222222,\"#7201a8\"],[0.3333333333333333,\"#9c179e\"],[0.4444444444444444,\"#bd3786\"],[0.5555555555555556,\"#d8576b\"],[0.6666666666666666,\"#ed7953\"],[0.7777777777777778,\"#fb9f3a\"],[0.8888888888888888,\"#fdca26\"],[1.0,\"#f0f921\"]],\"type\":\"histogram2dcontour\"}],\"mesh3d\":[{\"colorbar\":{\"outlinewidth\":0,\"ticks\":\"\"},\"type\":\"mesh3d\"}],\"parcoords\":[{\"line\":{\"colorbar\":{\"outlinewidth\":0,\"ticks\":\"\"}},\"type\":\"parcoords\"}],\"pie\":[{\"automargin\":true,\"type\":\"pie\"}],\"scatter\":[{\"marker\":{\"colorbar\":{\"outlinewidth\":0,\"ticks\":\"\"}},\"type\":\"scatter\"}],\"scatter3d\":[{\"line\":{\"colorbar\":{\"outlinewidth\":0,\"ticks\":\"\"}},\"marker\":{\"colorbar\":{\"outlinewidth\":0,\"ticks\":\"\"}},\"type\":\"scatter3d\"}],\"scattercarpet\":[{\"marker\":{\"colorbar\":{\"outlinewidth\":0,\"ticks\":\"\"}},\"type\":\"scattercarpet\"}],\"scattergeo\":[{\"marker\":{\"colorbar\":{\"outlinewidth\":0,\"ticks\":\"\"}},\"type\":\"scattergeo\"}],\"scattergl\":[{\"marker\":{\"colorbar\":{\"outlinewidth\":0,\"ticks\":\"\"}},\"type\":\"scattergl\"}],\"scattermapbox\":[{\"marker\":{\"colorbar\":{\"outlinewidth\":0,\"ticks\":\"\"}},\"type\":\"scattermapbox\"}],\"scatterpolar\":[{\"marker\":{\"colorbar\":{\"outlinewidth\":0,\"ticks\":\"\"}},\"type\":\"scatterpolar\"}],\"scatterpolargl\":[{\"marker\":{\"colorbar\":{\"outlinewidth\":0,\"ticks\":\"\"}},\"type\":\"scatterpolargl\"}],\"scatterternary\":[{\"marker\":{\"colorbar\":{\"outlinewidth\":0,\"ticks\":\"\"}},\"type\":\"scatterternary\"}],\"surface\":[{\"colorbar\":{\"outlinewidth\":0,\"ticks\":\"\"},\"colorscale\":[[0.0,\"#0d0887\"],[0.1111111111111111,\"#46039f\"],[0.2222222222222222,\"#7201a8\"],[0.3333333333333333,\"#9c179e\"],[0.4444444444444444,\"#bd3786\"],[0.5555555555555556,\"#d8576b\"],[0.6666666666666666,\"#ed7953\"],[0.7777777777777778,\"#fb9f3a\"],[0.8888888888888888,\"#fdca26\"],[1.0,\"#f0f921\"]],\"type\":\"surface\"}],\"table\":[{\"cells\":{\"fill\":{\"color\":\"#EBF0F8\"},\"line\":{\"color\":\"white\"}},\"header\":{\"fill\":{\"color\":\"#C8D4E3\"},\"line\":{\"color\":\"white\"}},\"type\":\"table\"}]},\"layout\":{\"annotationdefaults\":{\"arrowcolor\":\"#2a3f5f\",\"arrowhead\":0,\"arrowwidth\":1},\"autotypenumbers\":\"strict\",\"coloraxis\":{\"colorbar\":{\"outlinewidth\":0,\"ticks\":\"\"}},\"colorscale\":{\"diverging\":[[0,\"#8e0152\"],[0.1,\"#c51b7d\"],[0.2,\"#de77ae\"],[0.3,\"#f1b6da\"],[0.4,\"#fde0ef\"],[0.5,\"#f7f7f7\"],[0.6,\"#e6f5d0\"],[0.7,\"#b8e186\"],[0.8,\"#7fbc41\"],[0.9,\"#4d9221\"],[1,\"#276419\"]],\"sequential\":[[0.0,\"#0d0887\"],[0.1111111111111111,\"#46039f\"],[0.2222222222222222,\"#7201a8\"],[0.3333333333333333,\"#9c179e\"],[0.4444444444444444,\"#bd3786\"],[0.5555555555555556,\"#d8576b\"],[0.6666666666666666,\"#ed7953\"],[0.7777777777777778,\"#fb9f3a\"],[0.8888888888888888,\"#fdca26\"],[1.0,\"#f0f921\"]],\"sequentialminus\":[[0.0,\"#0d0887\"],[0.1111111111111111,\"#46039f\"],[0.2222222222222222,\"#7201a8\"],[0.3333333333333333,\"#9c179e\"],[0.4444444444444444,\"#bd3786\"],[0.5555555555555556,\"#d8576b\"],[0.6666666666666666,\"#ed7953\"],[0.7777777777777778,\"#fb9f3a\"],[0.8888888888888888,\"#fdca26\"],[1.0,\"#f0f921\"]]},\"colorway\":[\"#636efa\",\"#EF553B\",\"#00cc96\",\"#ab63fa\",\"#FFA15A\",\"#19d3f3\",\"#FF6692\",\"#B6E880\",\"#FF97FF\",\"#FECB52\"],\"font\":{\"color\":\"#2a3f5f\"},\"geo\":{\"bgcolor\":\"white\",\"lakecolor\":\"white\",\"landcolor\":\"#E5ECF6\",\"showlakes\":true,\"showland\":true,\"subunitcolor\":\"white\"},\"hoverlabel\":{\"align\":\"left\"},\"hovermode\":\"closest\",\"mapbox\":{\"style\":\"light\"},\"paper_bgcolor\":\"white\",\"plot_bgcolor\":\"#E5ECF6\",\"polar\":{\"angularaxis\":{\"gridcolor\":\"white\",\"linecolor\":\"white\",\"ticks\":\"\"},\"bgcolor\":\"#E5ECF6\",\"radialaxis\":{\"gridcolor\":\"white\",\"linecolor\":\"white\",\"ticks\":\"\"}},\"scene\":{\"xaxis\":{\"backgroundcolor\":\"#E5ECF6\",\"gridcolor\":\"white\",\"gridwidth\":2,\"linecolor\":\"white\",\"showbackground\":true,\"ticks\":\"\",\"zerolinecolor\":\"white\"},\"yaxis\":{\"backgroundcolor\":\"#E5ECF6\",\"gridcolor\":\"white\",\"gridwidth\":2,\"linecolor\":\"white\",\"showbackground\":true,\"ticks\":\"\",\"zerolinecolor\":\"white\"},\"zaxis\":{\"backgroundcolor\":\"#E5ECF6\",\"gridcolor\":\"white\",\"gridwidth\":2,\"linecolor\":\"white\",\"showbackground\":true,\"ticks\":\"\",\"zerolinecolor\":\"white\"}},\"shapedefaults\":{\"line\":{\"color\":\"#2a3f5f\"}},\"ternary\":{\"aaxis\":{\"gridcolor\":\"white\",\"linecolor\":\"white\",\"ticks\":\"\"},\"baxis\":{\"gridcolor\":\"white\",\"linecolor\":\"white\",\"ticks\":\"\"},\"bgcolor\":\"#E5ECF6\",\"caxis\":{\"gridcolor\":\"white\",\"linecolor\":\"white\",\"ticks\":\"\"}},\"title\":{\"x\":0.05},\"xaxis\":{\"automargin\":true,\"gridcolor\":\"white\",\"linecolor\":\"white\",\"ticks\":\"\",\"title\":{\"standoff\":15},\"zerolinecolor\":\"white\",\"zerolinewidth\":2},\"yaxis\":{\"automargin\":true,\"gridcolor\":\"white\",\"linecolor\":\"white\",\"ticks\":\"\",\"title\":{\"standoff\":15},\"zerolinecolor\":\"white\",\"zerolinewidth\":2}}},\"xaxis\":{\"anchor\":\"y\",\"domain\":[0.0,1.0],\"title\":{\"text\":\"index\"}},\"yaxis\":{\"anchor\":\"x\",\"domain\":[0.0,1.0],\"title\":{\"text\":\"value\"}}},                        {\"responsive\": true}                    ).then(function(){\n",
       "                            \n",
       "var gd = document.getElementById('6260b376-2732-4e7f-b993-902f4caede81');\n",
       "var x = new MutationObserver(function (mutations, observer) {{\n",
       "        var display = window.getComputedStyle(gd).display;\n",
       "        if (!display || display === 'none') {{\n",
       "            console.log([gd, 'removed!']);\n",
       "            Plotly.purge(gd);\n",
       "            observer.disconnect();\n",
       "        }}\n",
       "}});\n",
       "\n",
       "// Listen for the removal of the full notebook cells\n",
       "var notebookContainer = gd.closest('#notebook-container');\n",
       "if (notebookContainer) {{\n",
       "    x.observe(notebookContainer, {childList: true});\n",
       "}}\n",
       "\n",
       "// Listen for the clearing of the current output cell\n",
       "var outputEl = gd.closest('.output');\n",
       "if (outputEl) {{\n",
       "    x.observe(outputEl, {childList: true});\n",
       "}}\n",
       "\n",
       "                        })                };                });            </script>        </div>"
      ]
     },
     "metadata": {},
     "output_type": "display_data"
    }
   ],
   "source": [
    "import plotly.express as px\n",
    "\n",
    "fig = px.line(val, x=val.index,y=val.columns)\n",
    "fig.show()"
   ]
  },
  {
   "cell_type": "code",
   "execution_count": 19,
   "metadata": {},
   "outputs": [],
   "source": [
    "#fazendo a previsao\n",
    "prev=model.predict(x_test)\n",
    "prev=scaler.inverse_transform(prev)\n"
   ]
  },
  {
   "cell_type": "code",
   "execution_count": 20,
   "metadata": {},
   "outputs": [
    {
     "data": {
      "text/plain": [
       "349"
      ]
     },
     "execution_count": 20,
     "metadata": {},
     "output_type": "execute_result"
    }
   ],
   "source": [
    "#previsao para os proximos 10 dias\n",
    "lenght_test= len(test)\n",
    "lenght_test"
   ]
  },
  {
   "cell_type": "code",
   "execution_count": 21,
   "metadata": {},
   "outputs": [],
   "source": [
    "#pegar os ultimos dias que sao o tamanho do meu step\n",
    "days_input_steps=lenght_test-steps\n"
   ]
  },
  {
   "cell_type": "code",
   "execution_count": 22,
   "metadata": {},
   "outputs": [
    {
     "data": {
      "text/plain": [
       "array([[1.34923213, 1.34161982, 1.42155111, 1.52812603, 1.55667284,\n",
       "        1.51099787, 1.70131043, 1.66515094, 1.45390425, 1.42535744,\n",
       "        1.34161982, 1.29023534, 1.31497582, 1.03141016, 1.13227594]])"
      ]
     },
     "execution_count": 22,
     "metadata": {},
     "output_type": "execute_result"
    }
   ],
   "source": [
    "#trasnformar en array\n",
    "input_steps=test[days_input_steps:]\n",
    "input_steps=np.array(input_steps).reshape(1,-1)\n",
    "input_steps"
   ]
  },
  {
   "cell_type": "code",
   "execution_count": 23,
   "metadata": {},
   "outputs": [],
   "source": [
    "#transformar en lista\n",
    "list_output_steps=list(input_steps)\n",
    "list_output_steps=list_output_steps[0].tolist()\n"
   ]
  },
  {
   "cell_type": "code",
   "execution_count": 24,
   "metadata": {},
   "outputs": [
    {
     "name": "stdout",
     "output_type": "stream",
     "text": [
      "[1.1398135]\n",
      "16\n",
      "2 dia. valores de entrada -> [1.34161982 1.42155111 1.52812603 1.55667284 1.51099787 1.70131043\n",
      " 1.66515094 1.45390425 1.42535744 1.34161982 1.29023534 1.31497582\n",
      " 1.03141016 1.13227594 1.13981354]\n",
      "[[[1.34161982]\n",
      "  [1.42155111]\n",
      "  [1.52812603]\n",
      "  [1.55667284]\n",
      "  [1.51099787]\n",
      "  [1.70131043]\n",
      "  [1.66515094]\n",
      "  [1.45390425]\n",
      "  [1.42535744]\n",
      "  [1.34161982]\n",
      "  [1.29023534]\n",
      "  [1.31497582]\n",
      "  [1.03141016]\n",
      "  [1.13227594]\n",
      "  [1.13981354]]]\n",
      "2 dia. valor previsto -> [[1.1144702]]\n",
      "[1.3416198193089377, 1.4215511054183843, 1.5281260325668515, 1.556672842679, 1.5109978739010854, 1.7013104253052551, 1.6651509389005952, 1.4539042536767885, 1.4253574435646401, 1.3416198193089377, 1.2902353433116396, 1.3149758152775324, 1.0314101572444057, 1.1322759401658742, 1.1398135423660278, 1.1144702434539795]\n",
      "3 dia. valores de entrada -> [1.42155111 1.52812603 1.55667284 1.51099787 1.70131043 1.66515094\n",
      " 1.45390425 1.42535744 1.34161982 1.29023534 1.31497582 1.03141016\n",
      " 1.13227594 1.13981354 1.11447024]\n",
      "[[[1.42155111]\n",
      "  [1.52812603]\n",
      "  [1.55667284]\n",
      "  [1.51099787]\n",
      "  [1.70131043]\n",
      "  [1.66515094]\n",
      "  [1.45390425]\n",
      "  [1.42535744]\n",
      "  [1.34161982]\n",
      "  [1.29023534]\n",
      "  [1.31497582]\n",
      "  [1.03141016]\n",
      "  [1.13227594]\n",
      "  [1.13981354]\n",
      "  [1.11447024]]]\n",
      "3 dia. valor previsto -> [[1.0854044]]\n",
      "[1.4215511054183843, 1.5281260325668515, 1.556672842679, 1.5109978739010854, 1.7013104253052551, 1.6651509389005952, 1.4539042536767885, 1.4253574435646401, 1.3416198193089377, 1.2902353433116396, 1.3149758152775324, 1.0314101572444057, 1.1322759401658742, 1.1398135423660278, 1.1144702434539795, 1.085404396057129]\n",
      "4 dia. valores de entrada -> [1.52812603 1.55667284 1.51099787 1.70131043 1.66515094 1.45390425\n",
      " 1.42535744 1.34161982 1.29023534 1.31497582 1.03141016 1.13227594\n",
      " 1.13981354 1.11447024 1.0854044 ]\n",
      "[[[1.52812603]\n",
      "  [1.55667284]\n",
      "  [1.51099787]\n",
      "  [1.70131043]\n",
      "  [1.66515094]\n",
      "  [1.45390425]\n",
      "  [1.42535744]\n",
      "  [1.34161982]\n",
      "  [1.29023534]\n",
      "  [1.31497582]\n",
      "  [1.03141016]\n",
      "  [1.13227594]\n",
      "  [1.13981354]\n",
      "  [1.11447024]\n",
      "  [1.0854044 ]]]\n",
      "4 dia. valor previsto -> [[1.0570618]]\n",
      "[1.5281260325668515, 1.556672842679, 1.5109978739010854, 1.7013104253052551, 1.6651509389005952, 1.4539042536767885, 1.4253574435646401, 1.3416198193089377, 1.2902353433116396, 1.3149758152775324, 1.0314101572444057, 1.1322759401658742, 1.1398135423660278, 1.1144702434539795, 1.085404396057129, 1.057061791419983]\n",
      "5 dia. valores de entrada -> [1.55667284 1.51099787 1.70131043 1.66515094 1.45390425 1.42535744\n",
      " 1.34161982 1.29023534 1.31497582 1.03141016 1.13227594 1.13981354\n",
      " 1.11447024 1.0854044  1.05706179]\n",
      "[[[1.55667284]\n",
      "  [1.51099787]\n",
      "  [1.70131043]\n",
      "  [1.66515094]\n",
      "  [1.45390425]\n",
      "  [1.42535744]\n",
      "  [1.34161982]\n",
      "  [1.29023534]\n",
      "  [1.31497582]\n",
      "  [1.03141016]\n",
      "  [1.13227594]\n",
      "  [1.13981354]\n",
      "  [1.11447024]\n",
      "  [1.0854044 ]\n",
      "  [1.05706179]]]\n",
      "5 dia. valor previsto -> [[1.0306207]]\n",
      "[1.556672842679, 1.5109978739010854, 1.7013104253052551, 1.6651509389005952, 1.4539042536767885, 1.4253574435646401, 1.3416198193089377, 1.2902353433116396, 1.3149758152775324, 1.0314101572444057, 1.1322759401658742, 1.1398135423660278, 1.1144702434539795, 1.085404396057129, 1.057061791419983, 1.0306206941604614]\n",
      "6 dia. valores de entrada -> [1.51099787 1.70131043 1.66515094 1.45390425 1.42535744 1.34161982\n",
      " 1.29023534 1.31497582 1.03141016 1.13227594 1.13981354 1.11447024\n",
      " 1.0854044  1.05706179 1.03062069]\n",
      "[[[1.51099787]\n",
      "  [1.70131043]\n",
      "  [1.66515094]\n",
      "  [1.45390425]\n",
      "  [1.42535744]\n",
      "  [1.34161982]\n",
      "  [1.29023534]\n",
      "  [1.31497582]\n",
      "  [1.03141016]\n",
      "  [1.13227594]\n",
      "  [1.13981354]\n",
      "  [1.11447024]\n",
      "  [1.0854044 ]\n",
      "  [1.05706179]\n",
      "  [1.03062069]]]\n",
      "6 dia. valor previsto -> [[1.0057863]]\n",
      "[1.5109978739010854, 1.7013104253052551, 1.6651509389005952, 1.4539042536767885, 1.4253574435646401, 1.3416198193089377, 1.2902353433116396, 1.3149758152775324, 1.0314101572444057, 1.1322759401658742, 1.1398135423660278, 1.1144702434539795, 1.085404396057129, 1.057061791419983, 1.0306206941604614, 1.0057862997055054]\n",
      "7 dia. valores de entrada -> [1.70131043 1.66515094 1.45390425 1.42535744 1.34161982 1.29023534\n",
      " 1.31497582 1.03141016 1.13227594 1.13981354 1.11447024 1.0854044\n",
      " 1.05706179 1.03062069 1.0057863 ]\n",
      "[[[1.70131043]\n",
      "  [1.66515094]\n",
      "  [1.45390425]\n",
      "  [1.42535744]\n",
      "  [1.34161982]\n",
      "  [1.29023534]\n",
      "  [1.31497582]\n",
      "  [1.03141016]\n",
      "  [1.13227594]\n",
      "  [1.13981354]\n",
      "  [1.11447024]\n",
      "  [1.0854044 ]\n",
      "  [1.05706179]\n",
      "  [1.03062069]\n",
      "  [1.0057863 ]]]\n",
      "7 dia. valor previsto -> [[0.9821607]]\n",
      "[1.7013104253052551, 1.6651509389005952, 1.4539042536767885, 1.4253574435646401, 1.3416198193089377, 1.2902353433116396, 1.3149758152775324, 1.0314101572444057, 1.1322759401658742, 1.1398135423660278, 1.1144702434539795, 1.085404396057129, 1.057061791419983, 1.0306206941604614, 1.0057862997055054, 0.9821606874465942]\n",
      "8 dia. valores de entrada -> [1.66515094 1.45390425 1.42535744 1.34161982 1.29023534 1.31497582\n",
      " 1.03141016 1.13227594 1.13981354 1.11447024 1.0854044  1.05706179\n",
      " 1.03062069 1.0057863  0.98216069]\n",
      "[[[1.66515094]\n",
      "  [1.45390425]\n",
      "  [1.42535744]\n",
      "  [1.34161982]\n",
      "  [1.29023534]\n",
      "  [1.31497582]\n",
      "  [1.03141016]\n",
      "  [1.13227594]\n",
      "  [1.13981354]\n",
      "  [1.11447024]\n",
      "  [1.0854044 ]\n",
      "  [1.05706179]\n",
      "  [1.03062069]\n",
      "  [1.0057863 ]\n",
      "  [0.98216069]]]\n",
      "8 dia. valor previsto -> [[0.9595951]]\n",
      "[1.6651509389005952, 1.4539042536767885, 1.4253574435646401, 1.3416198193089377, 1.2902353433116396, 1.3149758152775324, 1.0314101572444057, 1.1322759401658742, 1.1398135423660278, 1.1144702434539795, 1.085404396057129, 1.057061791419983, 1.0306206941604614, 1.0057862997055054, 0.9821606874465942, 0.9595950841903687]\n",
      "9 dia. valores de entrada -> [1.45390425 1.42535744 1.34161982 1.29023534 1.31497582 1.03141016\n",
      " 1.13227594 1.13981354 1.11447024 1.0854044  1.05706179 1.03062069\n",
      " 1.0057863  0.98216069 0.95959508]\n",
      "[[[1.45390425]\n",
      "  [1.42535744]\n",
      "  [1.34161982]\n",
      "  [1.29023534]\n",
      "  [1.31497582]\n",
      "  [1.03141016]\n",
      "  [1.13227594]\n",
      "  [1.13981354]\n",
      "  [1.11447024]\n",
      "  [1.0854044 ]\n",
      "  [1.05706179]\n",
      "  [1.03062069]\n",
      "  [1.0057863 ]\n",
      "  [0.98216069]\n",
      "  [0.95959508]]]\n",
      "9 dia. valor previsto -> [[0.93782437]]\n",
      "[1.4539042536767885, 1.4253574435646401, 1.3416198193089377, 1.2902353433116396, 1.3149758152775324, 1.0314101572444057, 1.1322759401658742, 1.1398135423660278, 1.1144702434539795, 1.085404396057129, 1.057061791419983, 1.0306206941604614, 1.0057862997055054, 0.9821606874465942, 0.9595950841903687, 0.9378243684768677]\n",
      "10 dia. valores de entrada -> [1.42535744 1.34161982 1.29023534 1.31497582 1.03141016 1.13227594\n",
      " 1.13981354 1.11447024 1.0854044  1.05706179 1.03062069 1.0057863\n",
      " 0.98216069 0.95959508 0.93782437]\n",
      "[[[1.42535744]\n",
      "  [1.34161982]\n",
      "  [1.29023534]\n",
      "  [1.31497582]\n",
      "  [1.03141016]\n",
      "  [1.13227594]\n",
      "  [1.13981354]\n",
      "  [1.11447024]\n",
      "  [1.0854044 ]\n",
      "  [1.05706179]\n",
      "  [1.03062069]\n",
      "  [1.0057863 ]\n",
      "  [0.98216069]\n",
      "  [0.95959508]\n",
      "  [0.93782437]]]\n",
      "10 dia. valor previsto -> [[0.9165611]]\n",
      "[1.4253574435646401, 1.3416198193089377, 1.2902353433116396, 1.3149758152775324, 1.0314101572444057, 1.1322759401658742, 1.1398135423660278, 1.1144702434539795, 1.085404396057129, 1.057061791419983, 1.0306206941604614, 1.0057862997055054, 0.9821606874465942, 0.9595950841903687, 0.9378243684768677, 0.9165611267089844]\n",
      "[[1.1398135423660278], [1.1144702434539795], [1.085404396057129], [1.057061791419983], [1.0306206941604614], [1.0057862997055054], [0.9821606874465942], [0.9595950841903687], [0.9378243684768677], [0.9165611267089844]]\n"
     ]
    }
   ],
   "source": [
    "#loop para prever os proximos 10 dias\n",
    "pred_output=[]\n",
    "i=1\n",
    "n_future=10\n",
    "while(i<=n_future):\n",
    "    if len(list_output_steps) >  steps:\n",
    "        input_steps = np.array(list_output_steps[1:])\n",
    "        print('{} dia. valores de entrada -> {}'.format(i, input_steps))\n",
    "        input_steps = input_steps.reshape(1,-1)\n",
    "        input_steps = input_steps.reshape((1,steps,1))\n",
    "        print(input_steps)\n",
    "        pred = model.predict(input_steps, verbose=0)\n",
    "        print('{} dia. valor previsto -> {}'.format(i, pred))\n",
    "        list_output_steps.extend(pred[0].tolist())\n",
    "        list_output_steps = list_output_steps[1:]\n",
    "        print(list_output_steps)\n",
    "        pred_output.extend(pred.tolist())\n",
    "        i=i+1\n",
    "    else:\n",
    "        input_steps = input_steps.reshape((1, steps,1))\n",
    "        pred= model.predict(input_steps, verbose=0)\n",
    "        print(pred[0])\n",
    "        list_output_steps.extend(pred[0].tolist())\n",
    "        print(len(list_output_steps))\n",
    "        pred_output.extend(pred.tolist())\n",
    "        i=i+1\n",
    "print(pred_output)\n",
    "        "
   ]
  },
  {
   "cell_type": "code",
   "execution_count": 25,
   "metadata": {},
   "outputs": [
    {
     "data": {
      "text/plain": [
       "[25.539606437644494,\n",
       " 25.406439714141186,\n",
       " 25.253712806838454,\n",
       " 25.104786188872232,\n",
       " 24.96585106838526,\n",
       " 24.835358390568047,\n",
       " 24.711217275940577,\n",
       " 24.59264599364873,\n",
       " 24.478251459221696,\n",
       " 24.366523453837928]"
      ]
     },
     "execution_count": 25,
     "metadata": {},
     "output_type": "execute_result"
    }
   ],
   "source": [
    "prev = scaler.inverse_transform(pred_output)\n",
    "prev= np.array(prev).reshape(1,-1)\n",
    "list_output_prev=list(prev)\n",
    "list_output_prev=prev[0].tolist()\n",
    "list_output_prev"
   ]
  },
  {
   "cell_type": "code",
   "execution_count": 26,
   "metadata": {},
   "outputs": [
    {
     "data": {
      "text/plain": [
       "[Timestamp('2021-09-09 00:00:00', freq='D'),\n",
       " Timestamp('2021-09-10 00:00:00', freq='D'),\n",
       " Timestamp('2021-09-11 00:00:00', freq='D'),\n",
       " Timestamp('2021-09-12 00:00:00', freq='D'),\n",
       " Timestamp('2021-09-13 00:00:00', freq='D'),\n",
       " Timestamp('2021-09-14 00:00:00', freq='D'),\n",
       " Timestamp('2021-09-15 00:00:00', freq='D'),\n",
       " Timestamp('2021-09-16 00:00:00', freq='D'),\n",
       " Timestamp('2021-09-17 00:00:00', freq='D'),\n",
       " Timestamp('2021-09-18 00:00:00', freq='D')]"
      ]
     },
     "execution_count": 26,
     "metadata": {},
     "output_type": "execute_result"
    }
   ],
   "source": [
    "datelist = pd.date_range(datetime.date.today(), periods=10).tolist()\n",
    "datelist"
   ]
  },
  {
   "cell_type": "code",
   "execution_count": 32,
   "metadata": {},
   "outputs": [],
   "source": [
    "df_prev=pd.DataFrame(datelist)\n",
    "df_prev['Date']=pd.DataFrame(datelist)\n",
    "df_prev.drop([0], axis=1, inplace=True)\n",
    "\n",
    "df_prev['Prev']=list_output_prev\n",
    "df_prev.set_index('Date', inplace=True)"
   ]
  },
  {
   "cell_type": "code",
   "execution_count": 33,
   "metadata": {},
   "outputs": [
    {
     "data": {
      "text/html": [
       "<div>\n",
       "<style scoped>\n",
       "    .dataframe tbody tr th:only-of-type {\n",
       "        vertical-align: middle;\n",
       "    }\n",
       "\n",
       "    .dataframe tbody tr th {\n",
       "        vertical-align: top;\n",
       "    }\n",
       "\n",
       "    .dataframe thead th {\n",
       "        text-align: right;\n",
       "    }\n",
       "</style>\n",
       "<table border=\"1\" class=\"dataframe\">\n",
       "  <thead>\n",
       "    <tr style=\"text-align: right;\">\n",
       "      <th></th>\n",
       "      <th>Prev</th>\n",
       "    </tr>\n",
       "    <tr>\n",
       "      <th>Date</th>\n",
       "      <th></th>\n",
       "    </tr>\n",
       "  </thead>\n",
       "  <tbody>\n",
       "    <tr>\n",
       "      <th>2021-09-09</th>\n",
       "      <td>25.539606</td>\n",
       "    </tr>\n",
       "    <tr>\n",
       "      <th>2021-09-10</th>\n",
       "      <td>25.406440</td>\n",
       "    </tr>\n",
       "    <tr>\n",
       "      <th>2021-09-11</th>\n",
       "      <td>25.253713</td>\n",
       "    </tr>\n",
       "    <tr>\n",
       "      <th>2021-09-12</th>\n",
       "      <td>25.104786</td>\n",
       "    </tr>\n",
       "    <tr>\n",
       "      <th>2021-09-13</th>\n",
       "      <td>24.965851</td>\n",
       "    </tr>\n",
       "    <tr>\n",
       "      <th>2021-09-14</th>\n",
       "      <td>24.835358</td>\n",
       "    </tr>\n",
       "    <tr>\n",
       "      <th>2021-09-15</th>\n",
       "      <td>24.711217</td>\n",
       "    </tr>\n",
       "    <tr>\n",
       "      <th>2021-09-16</th>\n",
       "      <td>24.592646</td>\n",
       "    </tr>\n",
       "    <tr>\n",
       "      <th>2021-09-17</th>\n",
       "      <td>24.478251</td>\n",
       "    </tr>\n",
       "    <tr>\n",
       "      <th>2021-09-18</th>\n",
       "      <td>24.366523</td>\n",
       "    </tr>\n",
       "  </tbody>\n",
       "</table>\n",
       "</div>"
      ],
      "text/plain": [
       "                 Prev\n",
       "Date                 \n",
       "2021-09-09  25.539606\n",
       "2021-09-10  25.406440\n",
       "2021-09-11  25.253713\n",
       "2021-09-12  25.104786\n",
       "2021-09-13  24.965851\n",
       "2021-09-14  24.835358\n",
       "2021-09-15  24.711217\n",
       "2021-09-16  24.592646\n",
       "2021-09-17  24.478251\n",
       "2021-09-18  24.366523"
      ]
     },
     "execution_count": 33,
     "metadata": {},
     "output_type": "execute_result"
    }
   ],
   "source": [
    "df_prev"
   ]
  },
  {
   "cell_type": "code",
   "execution_count": 34,
   "metadata": {},
   "outputs": [
    {
     "data": {
      "text/html": [
       "<div>\n",
       "<style scoped>\n",
       "    .dataframe tbody tr th:only-of-type {\n",
       "        vertical-align: middle;\n",
       "    }\n",
       "\n",
       "    .dataframe tbody tr th {\n",
       "        vertical-align: top;\n",
       "    }\n",
       "\n",
       "    .dataframe thead th {\n",
       "        text-align: right;\n",
       "    }\n",
       "</style>\n",
       "<table border=\"1\" class=\"dataframe\">\n",
       "  <thead>\n",
       "    <tr style=\"text-align: right;\">\n",
       "      <th></th>\n",
       "      <th>Adj Close</th>\n",
       "    </tr>\n",
       "    <tr>\n",
       "      <th>Date</th>\n",
       "      <th></th>\n",
       "    </tr>\n",
       "  </thead>\n",
       "  <tbody>\n",
       "    <tr>\n",
       "      <th>2017-01-02</th>\n",
       "      <td>12.417701</td>\n",
       "    </tr>\n",
       "    <tr>\n",
       "      <th>2017-01-03</th>\n",
       "      <td>13.129221</td>\n",
       "    </tr>\n",
       "    <tr>\n",
       "      <th>2017-01-04</th>\n",
       "      <td>13.129221</td>\n",
       "    </tr>\n",
       "    <tr>\n",
       "      <th>2017-01-05</th>\n",
       "      <td>13.340982</td>\n",
       "    </tr>\n",
       "    <tr>\n",
       "      <th>2017-01-06</th>\n",
       "      <td>13.264747</td>\n",
       "    </tr>\n",
       "    <tr>\n",
       "      <th>...</th>\n",
       "      <td>...</td>\n",
       "    </tr>\n",
       "    <tr>\n",
       "      <th>2021-09-02</th>\n",
       "      <td>26.600000</td>\n",
       "    </tr>\n",
       "    <tr>\n",
       "      <th>2021-09-03</th>\n",
       "      <td>26.330000</td>\n",
       "    </tr>\n",
       "    <tr>\n",
       "      <th>2021-09-06</th>\n",
       "      <td>26.459999</td>\n",
       "    </tr>\n",
       "    <tr>\n",
       "      <th>2021-09-08</th>\n",
       "      <td>24.969999</td>\n",
       "    </tr>\n",
       "    <tr>\n",
       "      <th>2021-09-09</th>\n",
       "      <td>25.500000</td>\n",
       "    </tr>\n",
       "  </tbody>\n",
       "</table>\n",
       "<p>1163 rows × 1 columns</p>\n",
       "</div>"
      ],
      "text/plain": [
       "            Adj Close\n",
       "Date                 \n",
       "2017-01-02  12.417701\n",
       "2017-01-03  13.129221\n",
       "2017-01-04  13.129221\n",
       "2017-01-05  13.340982\n",
       "2017-01-06  13.264747\n",
       "...               ...\n",
       "2021-09-02  26.600000\n",
       "2021-09-03  26.330000\n",
       "2021-09-06  26.459999\n",
       "2021-09-08  24.969999\n",
       "2021-09-09  25.500000\n",
       "\n",
       "[1163 rows x 1 columns]"
      ]
     },
     "execution_count": 34,
     "metadata": {},
     "output_type": "execute_result"
    }
   ],
   "source": [
    "df"
   ]
  },
  {
   "cell_type": "code",
   "execution_count": 37,
   "metadata": {},
   "outputs": [
    {
     "data": {
      "text/plain": [
       "<matplotlib.legend.Legend at 0x245265f48e0>"
      ]
     },
     "execution_count": 37,
     "metadata": {},
     "output_type": "execute_result"
    },
    {
     "data": {
      "image/png": "[encoded data removed]",
      "text/plain": [
       "<Figure size 432x288 with 1 Axes>"
      ]
     },
     "metadata": {
      "needs_background": "light"
     },
     "output_type": "display_data"
    }
   ],
   "source": [
    "\n",
    "plt.plot(df, label='PETR4.SA')\n",
    "plt.plot(df_prev, label='prev')\n",
    "plt.legend()"
   ]
  },
  {
   "cell_type": "markdown",
   "metadata": {},
   "source": [
    "# como hacer para tener el grafico de arriba en plotly\n",
    "import plotly.graph_objects as go\n",
    "\n",
    "\n",
    "# dic para dfs\n",
    "dfs = {\"df1\" : df, \"df2\": df_prev}\n",
    "\n",
    "# grafico\n",
    "fig = go.Figure()\n",
    "\n",
    "for i in dfs:\n",
    "    fig = fig.add_trace(go.Scatter(x = dfs[i],\n",
    "                                   y = dfs[i], \n",
    "                                   name = i))\n",
    "fig.show()"
   ]
  },
  {
   "cell_type": "code",
   "execution_count": null,
   "metadata": {},
   "outputs": [],
   "source": []
  }
 ],
 "metadata": {
  "kernelspec": {
   "display_name": "Python 3",
   "language": "python",
   "name": "python3"
  },
  "language_info": {
   "codemirror_mode": {
    "name": "ipython",
    "version": 3
   },
   "file_extension": ".py",
   "mimetype": "text/x-python",
   "name": "python",
   "nbconvert_exporter": "python",
   "pygments_lexer": "ipython3",
   "version": "3.8.5"
  }
 },
 "nbformat": 4,
 "nbformat_minor": 4
}
